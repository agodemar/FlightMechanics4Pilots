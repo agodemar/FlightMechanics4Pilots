{
 "cells": [
  {
   "cell_type": "markdown",
   "metadata": {},
   "source": [
    "# The International Standard Atmosphere (ISA)"
   ]
  },
  {
   "cell_type": "markdown",
   "metadata": {},
   "source": [
    "We shall be concerned with altitudes below 31 km, or about 100000 ft."
   ]
  },
  {
   "cell_type": "code",
   "execution_count": 1,
   "metadata": {
    "collapsed": true
   },
   "outputs": [],
   "source": [
    "%run ./python/nb_init.py\n",
    "%run ./python/isa.py"
   ]
  },
  {
   "cell_type": "code",
   "execution_count": 2,
   "metadata": {},
   "outputs": [],
   "source": [
    "altitude = 0.0 *unit.m # Sea Level"
   ]
  },
  {
   "cell_type": "code",
   "execution_count": 3,
   "metadata": {
    "collapsed": true
   },
   "outputs": [],
   "source": [
    "temperature, soundspeed, pressure, density = isa(altitude)"
   ]
  },
  {
   "cell_type": "code",
   "execution_count": 4,
   "metadata": {},
   "outputs": [
    {
     "name": "stdout",
     "output_type": "stream",
     "text": [
      "Air properties at altitude h = 0.0 meter\n",
      " T = 288.15 kelvin\n",
      " a = 340.26 meter/second\n",
      " p = 1.013e+05 newton/meter²\n",
      " rho = 1.2252 kilogram·newton/joule/meter²\n"
     ]
    }
   ],
   "source": [
    "print(\"Air properties at altitude h = {!s}\".format(altitude))\n",
    "print(\" T = {:.6P}\\n a = {:.5P}\\n p = {:.4P}\\n rho = {:.4fP}\".format(temperature, soundspeed, pressure, density))"
   ]
  },
  {
   "cell_type": "code",
   "execution_count": null,
   "metadata": {
    "collapsed": true
   },
   "outputs": [],
   "source": []
  }
 ],
 "metadata": {
  "kernelspec": {
   "display_name": "Python 3",
   "language": "python",
   "name": "python3"
  },
  "language_info": {
   "codemirror_mode": {
    "name": "ipython",
    "version": 3
   },
   "file_extension": ".py",
   "mimetype": "text/x-python",
   "name": "python",
   "nbconvert_exporter": "python",
   "pygments_lexer": "ipython3",
   "version": "3.6.2"
  }
 },
 "nbformat": 4,
 "nbformat_minor": 2
}
